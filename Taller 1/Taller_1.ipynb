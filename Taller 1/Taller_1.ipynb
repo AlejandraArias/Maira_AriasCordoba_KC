{
  "nbformat": 4,
  "nbformat_minor": 0,
  "metadata": {
    "colab": {
      "name": "Taller_1.ipynb",
      "provenance": []
    },
    "kernelspec": {
      "name": "python3",
      "display_name": "Python 3"
    },
    "language_info": {
      "name": "python"
    }
  },
  "cells": [
    {
      "cell_type": "code",
      "metadata": {
        "id": "lO_EA8QnhfkC"
      },
      "source": [
        "import numpy as np\n",
        "import time\n"
      ],
      "execution_count": 37,
      "outputs": []
    },
    {
      "cell_type": "markdown",
      "metadata": {
        "id": "uCx5IqIjiBz8"
      },
      "source": [
        "**<h1>TALLER 1 CIENCIAS DE DATOS</h1>**"
      ]
    },
    {
      "cell_type": "markdown",
      "metadata": {
        "id": "6nA_k7FOlw85"
      },
      "source": [
        "1.Tienen el siguiente arreglo : \n",
        "\n",
        "arr = np.array([0, 1, 2, 3, 4, 5, 6, 7, 8, 9])\n",
        "\n",
        "Como es posible obtener el siguiente resultado:\n",
        "\n",
        "array([ 0, -1,  2, -1,  4, -1,  6, -1,  8, -1])\n"
      ]
    },
    {
      "cell_type": "code",
      "metadata": {
        "colab": {
          "base_uri": "https://localhost:8080/"
        },
        "id": "mddQTf-EmPhV",
        "outputId": "05cc3864-cb02-4cef-fd33-31e29371e82d"
      },
      "source": [
        "arr = np.array([0, 1, 2, 3, 4, 5, 6, 7, 8, 9])\n",
        "arr [[1,3,5,7,9]]= -1\n",
        "print(arr)"
      ],
      "execution_count": 39,
      "outputs": [
        {
          "output_type": "stream",
          "text": [
            "[ 0 -1  2 -1  4 -1  6 -1  8 -1]\n"
          ],
          "name": "stdout"
        }
      ]
    },
    {
      "cell_type": "markdown",
      "metadata": {
        "id": "HNEBYpwWqo2o"
      },
      "source": [
        "2.Tienen el siguiente input:\n",
        "\n",
        "np.arange(10)\n",
        "\n",
        "Como se puede hacer para obtener el siguiente resultado:\n",
        "\n",
        " array([[0, 1, 2, 3, 4],\n",
        " \n",
        " [5, 6, 7, 8, 9]])\n",
        "\n"
      ]
    },
    {
      "cell_type": "code",
      "metadata": {
        "colab": {
          "base_uri": "https://localhost:8080/"
        },
        "id": "gejVGFojrOHh",
        "outputId": "ceb16406-c641-4a73-fbdc-ca91dc24d117"
      },
      "source": [
        "array=np.arange(10)\n",
        "print(array.reshape((2,5)))"
      ],
      "execution_count": 40,
      "outputs": [
        {
          "output_type": "stream",
          "text": [
            "[[0 1 2 3 4]\n",
            " [5 6 7 8 9]]\n"
          ],
          "name": "stdout"
        }
      ]
    },
    {
      "cell_type": "markdown",
      "metadata": {
        "id": "lj15iLHf_7b9"
      },
      "source": [
        "3.Con base en el siguiente input:\n",
        "\n",
        "a = np.arange(10).reshape(2,-1)\n",
        "\n",
        "b = np.repeat(1, 10).reshape(2,-1)\n",
        "\n",
        "Obtener el siguiente resultado\n",
        "\n",
        " array([[0, 1, 2, 3, 4],\n",
        "\n",
        " [5, 6, 7, 8, 9],\n",
        "\n",
        " [1, 1, 1, 1, 1],\n",
        " \n",
        " [1, 1, 1, 1, 1]])\n",
        "\n"
      ]
    },
    {
      "cell_type": "code",
      "metadata": {
        "id": "sxHkH1lQAEmk",
        "colab": {
          "base_uri": "https://localhost:8080/"
        },
        "outputId": "eb1417b7-586c-487c-b652-27b7ccd467ba"
      },
      "source": [
        "a = np.arange(10).reshape(2,-1)\n",
        "b = np.repeat(1, 10).reshape(2,-1)\n",
        "print(np.concatenate((a,b),axis=0))"
      ],
      "execution_count": 41,
      "outputs": [
        {
          "output_type": "stream",
          "text": [
            "[[0 1 2 3 4]\n",
            " [5 6 7 8 9]\n",
            " [1 1 1 1 1]\n",
            " [1 1 1 1 1]]\n"
          ],
          "name": "stdout"
        }
      ]
    },
    {
      "cell_type": "markdown",
      "metadata": {
        "id": "_-EXT-4CwN5p"
      },
      "source": [
        "4.Con base en el siguiente input:\n",
        "\n",
        "a = np.array([1,2,3,2,3,4,3,4,5,6])\n",
        "\n",
        "b = np.array([7,2,10,2,7,4,9,4,9,8])\n",
        "\n",
        "Obtener el siguiente output\n",
        "\n",
        "array([2, 4])\n"
      ]
    },
    {
      "cell_type": "code",
      "metadata": {
        "colab": {
          "base_uri": "https://localhost:8080/"
        },
        "id": "cr3E8oDlx4eK",
        "outputId": "535d4b5d-b6ce-47d9-d9e6-b9e65327b158"
      },
      "source": [
        "a = np.array([1,2,3,2,3,4,3,4,5,6])\n",
        "b = np.array([7,2,10,2,7,4,9,4,9,8])\n",
        "array=([a[1],b[5]])\n",
        "print(array)"
      ],
      "execution_count": 42,
      "outputs": [
        {
          "output_type": "stream",
          "text": [
            "[2, 4]\n"
          ],
          "name": "stdout"
        }
      ]
    },
    {
      "cell_type": "markdown",
      "metadata": {
        "id": "d0AhmBpFygwE"
      },
      "source": [
        "5.Del siguiente input:\n",
        "\n",
        "a = np.array([1,2,3,4,5])\n",
        "\n",
        "b = np.array([5,6,7,8,9])\n",
        "\n",
        "Obtener el siguiente output\n",
        "\n",
        "array([1,2,3,4])\n"
      ]
    },
    {
      "cell_type": "code",
      "metadata": {
        "colab": {
          "base_uri": "https://localhost:8080/"
        },
        "id": "YKzmLQufyw_W",
        "outputId": "b030d624-8c95-4832-d28d-afb52d1f673d"
      },
      "source": [
        "a = np.array([1,2,3,4,5])\n",
        "b = np.array([5,6,7,8,9])\n",
        "c = np.concatenate((a,b))\n",
        "indice = [0,1,2,3]\n",
        "print(c[indice])"
      ],
      "execution_count": 48,
      "outputs": [
        {
          "output_type": "stream",
          "text": [
            "[1 2 3 4]\n"
          ],
          "name": "stdout"
        }
      ]
    },
    {
      "cell_type": "markdown",
      "metadata": {
        "id": "k_GAj-Vhzhrq"
      },
      "source": [
        "6.Con el siguiente input:\n",
        "\n",
        "a = np.array([2, 6, 1, 9, 10, 3, 27])\n",
        "\n",
        "Obtener:\n",
        "\n",
        "(array([6, 9, 10]),)\n"
      ]
    },
    {
      "cell_type": "code",
      "metadata": {
        "colab": {
          "base_uri": "https://localhost:8080/"
        },
        "id": "grRiJgD4zpI8",
        "outputId": "becb72d5-6cb0-4145-9090-15cedbe5407f"
      },
      "source": [
        "a = np.array([2, 6, 1, 9, 10, 3, 27])\n",
        "indices=[1,3,4]\n",
        "print(a[indices])"
      ],
      "execution_count": 46,
      "outputs": [
        {
          "output_type": "stream",
          "text": [
            "[ 6  9 10]\n"
          ],
          "name": "stdout"
        }
      ]
    },
    {
      "cell_type": "markdown",
      "metadata": {
        "id": "5Ot8PxLV0f4y"
      },
      "source": [
        "7.Invertir las filas de un arreglo de matriz 2D\n",
        "\n",
        "arr = np.arange(9).reshape(3,3)\n",
        "\n",
        "Output deseado:\n",
        "\n",
        "array([[6, 7, 8],\n",
        "\n",
        "       [3, 4, 5],\n",
        "\n",
        "       [0, 1, 2]])\n",
        "\n"
      ]
    },
    {
      "cell_type": "code",
      "metadata": {
        "colab": {
          "base_uri": "https://localhost:8080/"
        },
        "id": "gGo8o7hh2aoI",
        "outputId": "5c45dd56-619c-4852-8313-e2ce158913c8"
      },
      "source": [
        "arr = np.arange(9).reshape(3,3)\n",
        "arr[::-1]"
      ],
      "execution_count": 47,
      "outputs": [
        {
          "output_type": "execute_result",
          "data": {
            "text/plain": [
              "array([[6, 7, 8],\n",
              "       [3, 4, 5],\n",
              "       [0, 1, 2]])"
            ]
          },
          "metadata": {
            "tags": []
          },
          "execution_count": 47
        }
      ]
    }
  ]
}